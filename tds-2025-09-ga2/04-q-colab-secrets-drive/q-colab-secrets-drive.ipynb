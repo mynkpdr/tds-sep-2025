{
 "nbformat": 4,
 "nbformat_minor": 0,
 "metadata": {
  "colab": {
   "provenance": [],
   "gpuType": "V5E1"
  },
  "kernelspec": {
   "name": "python3",
   "display_name": "Python 3"
  },
  "language_info": {
   "name": "python"
  },
  "accelerator": "TPU"
 },
 "cells": [
  {
   "cell_type": "code",
   "execution_count": 1,
   "metadata": {
    "colab": {
     "base_uri": "https://localhost:8080/"
    },
    "id": "Hjhc1KmWZBJn",
    "outputId": "5d68c456-ba6b-4163-b5a4-da73f98fb612"
   },
   "outputs": [
    {
     "output_type": "stream",
     "name": "stdout",
     "text": [
      "Mounted at /content/drive\n",
      "D338-1451\n"
     ]
    }
   ],
   "source": [
    "from google.colab import drive, userdata\n",
    "import pandas as pd\n",
    "from pathlib import Path\n",
    "\n",
    "# 1. Mount Google Drive at the correct path\n",
    "drive.mount(\"/content/drive\")\n",
    "\n",
    "# 2. Get the secret using the correct method\n",
    "api_token = userdata.get(\"GA2_API_KEY\")\n",
    "\n",
    "# 3. Define the correct root path for the CSV file\n",
    "root = Path(\"/content/drive/MyDrive/ga2-deployment\")\n",
    "data = pd.read_csv(root / \"incident-metrics.csv\")\n",
    "\n",
    "# Calculate error_rate per window\n",
    "error_rate = data[\"failures\"] / data[\"requests\"]\n",
    "\n",
    "# Filter for windows with error rate >= 0.02\n",
    "critical = data[error_rate >= 0.02]\n",
    "\n",
    "# 4. Calculate the sum of failures for critical windows\n",
    "total_failures = critical[\"failures\"].sum()\n",
    "\n",
    "# 5. Format the verification code correctly\n",
    "# Use the last 4 characters of the token and zero-pad the total to 3 digits\n",
    "verification = f\"{api_token[-4:].upper()}-{total_failures:03d}\"\n",
    "\n",
    "print(verification)"
   ]
  }
 ]
}